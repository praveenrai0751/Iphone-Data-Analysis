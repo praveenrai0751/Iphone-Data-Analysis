{
 "cells": [
  {
   "cell_type": "code",
   "execution_count": 27,
   "id": "4ad414fd-8d92-4ea4-9e3c-40de9610b539",
   "metadata": {},
   "outputs": [],
   "source": [
    "import pandas as pd\n",
    "import os\n",
    "from datetime import datetime\n",
    "import datetime\n",
    "import pyodbc\n",
    "import sqlalchemy as sal\n"
   ]
  },
  {
   "cell_type": "code",
   "execution_count": 28,
   "id": "4050b702-ec49-489a-8a5f-c34979db3822",
   "metadata": {},
   "outputs": [],
   "source": [
    "#pulling all .csv data to a dataframe\n",
    "\n",
    "def fetching_data(folder_path):\n",
    "    csv_files = []\n",
    "    data_frames = []\n",
    "    today_date = datetime.datetime.now().strftime('%Y%m%d')\n",
    "    today_folder = os.path.join(folder_path, today_date)\n",
    "    if not os.path.exists(today_folder):\n",
    "        print(f'The Folder {today_folder} do not exist.')\n",
    "        return None\n",
    "\n",
    "    list_files = os.listdir(today_folder)\n",
    "\n",
    "    for file in list_files:\n",
    "        if file.endswith('.csv'):\n",
    "            csv_files.append(os.path.join(today_folder,file))\n",
    "\n",
    "\n",
    "    for csv_file in csv_files:\n",
    "        df = pd.read_csv(csv_file)\n",
    "        data_frames.append(df)\n",
    "\n",
    "    \n",
    "    if data_frames:\n",
    "        df_combine_iphone = pd.concat(data_frames, ignore_index=True)\n",
    "    \n",
    "    return df_combine_iphone\n",
    "    \n",
    "\n",
    "df_combine_iphone = fetching_data(r'P:\\Project\\For Iphone\\incoming')\n",
    "    "
   ]
  },
  {
   "cell_type": "code",
   "execution_count": 29,
   "id": "11932a49-c2ca-4db0-b3fc-93b3517c79e2",
   "metadata": {},
   "outputs": [
    {
     "data": {
      "text/html": [
       "<div>\n",
       "<style scoped>\n",
       "    .dataframe tbody tr th:only-of-type {\n",
       "        vertical-align: middle;\n",
       "    }\n",
       "\n",
       "    .dataframe tbody tr th {\n",
       "        vertical-align: top;\n",
       "    }\n",
       "\n",
       "    .dataframe thead th {\n",
       "        text-align: right;\n",
       "    }\n",
       "</style>\n",
       "<table border=\"1\" class=\"dataframe\">\n",
       "  <thead>\n",
       "    <tr style=\"text-align: right;\">\n",
       "      <th></th>\n",
       "      <th>Product Name</th>\n",
       "      <th>Product URL</th>\n",
       "      <th>Brand</th>\n",
       "      <th>Sale Price</th>\n",
       "      <th>Mrp</th>\n",
       "      <th>Number Of Ratings</th>\n",
       "      <th>Number Of Reviews</th>\n",
       "      <th>Upc</th>\n",
       "      <th>Star Rating</th>\n",
       "      <th>Ram</th>\n",
       "    </tr>\n",
       "  </thead>\n",
       "  <tbody>\n",
       "    <tr>\n",
       "      <th>0</th>\n",
       "      <td>APPLE iPhone 8 Plus (Gold, 64 GB)</td>\n",
       "      <td>https://www.flipkart.com/apple-iphone-8-plus-g...</td>\n",
       "      <td>Apple</td>\n",
       "      <td>49900</td>\n",
       "      <td>49900</td>\n",
       "      <td>3431</td>\n",
       "      <td>356</td>\n",
       "      <td>MOBEXRGV7EHHTGUH</td>\n",
       "      <td>4.6</td>\n",
       "      <td>2 GB</td>\n",
       "    </tr>\n",
       "    <tr>\n",
       "      <th>1</th>\n",
       "      <td>APPLE iPhone 8 Plus (Space Grey, 256 GB)</td>\n",
       "      <td>https://www.flipkart.com/apple-iphone-8-plus-s...</td>\n",
       "      <td>Apple</td>\n",
       "      <td>84900</td>\n",
       "      <td>84900</td>\n",
       "      <td>3431</td>\n",
       "      <td>356</td>\n",
       "      <td>MOBEXRGVAC6TJT4F</td>\n",
       "      <td>4.6</td>\n",
       "      <td>2 GB</td>\n",
       "    </tr>\n",
       "    <tr>\n",
       "      <th>2</th>\n",
       "      <td>APPLE iPhone 8 Plus (Silver, 256 GB)</td>\n",
       "      <td>https://www.flipkart.com/apple-iphone-8-plus-s...</td>\n",
       "      <td>Apple</td>\n",
       "      <td>84900</td>\n",
       "      <td>84900</td>\n",
       "      <td>3431</td>\n",
       "      <td>356</td>\n",
       "      <td>MOBEXRGVGETABXWZ</td>\n",
       "      <td>4.6</td>\n",
       "      <td>2 GB</td>\n",
       "    </tr>\n",
       "    <tr>\n",
       "      <th>3</th>\n",
       "      <td>APPLE iPhone 8 (Silver, 256 GB)</td>\n",
       "      <td>https://www.flipkart.com/apple-iphone-8-silver...</td>\n",
       "      <td>Apple</td>\n",
       "      <td>77000</td>\n",
       "      <td>77000</td>\n",
       "      <td>11202</td>\n",
       "      <td>794</td>\n",
       "      <td>MOBEXRGVMZWUHCBA</td>\n",
       "      <td>NaN</td>\n",
       "      <td>2 GB</td>\n",
       "    </tr>\n",
       "    <tr>\n",
       "      <th>4</th>\n",
       "      <td>APPLE iPhone 8 (Gold, 256 GB)</td>\n",
       "      <td>https://www.flipkart.com/apple-iphone-8-gold-2...</td>\n",
       "      <td>Apple</td>\n",
       "      <td>77000</td>\n",
       "      <td>77000</td>\n",
       "      <td>11202</td>\n",
       "      <td>794</td>\n",
       "      <td>MOBEXRGVPK7PFEJZ</td>\n",
       "      <td>4.5</td>\n",
       "      <td>2 GB</td>\n",
       "    </tr>\n",
       "    <tr>\n",
       "      <th>...</th>\n",
       "      <td>...</td>\n",
       "      <td>...</td>\n",
       "      <td>...</td>\n",
       "      <td>...</td>\n",
       "      <td>...</td>\n",
       "      <td>...</td>\n",
       "      <td>...</td>\n",
       "      <td>...</td>\n",
       "      <td>...</td>\n",
       "      <td>...</td>\n",
       "    </tr>\n",
       "    <tr>\n",
       "      <th>57</th>\n",
       "      <td>APPLE iPhone SE (Black, 64 GB)</td>\n",
       "      <td>https://www.flipkart.com/apple-iphone-se-black...</td>\n",
       "      <td>Apple</td>\n",
       "      <td>29999</td>\n",
       "      <td>39900</td>\n",
       "      <td>95909</td>\n",
       "      <td>8161</td>\n",
       "      <td>MOBFWQ6BR3MK7AUG</td>\n",
       "      <td>4.5</td>\n",
       "      <td>4 GB</td>\n",
       "    </tr>\n",
       "    <tr>\n",
       "      <th>58</th>\n",
       "      <td>APPLE iPhone 11 (Purple, 64 GB)</td>\n",
       "      <td>https://www.flipkart.com/apple-iphone-11-purpl...</td>\n",
       "      <td>Apple</td>\n",
       "      <td>46999</td>\n",
       "      <td>54900</td>\n",
       "      <td>43470</td>\n",
       "      <td>3331</td>\n",
       "      <td>MOBFWQ6BTFFJKGKE</td>\n",
       "      <td>4.6</td>\n",
       "      <td>4 GB</td>\n",
       "    </tr>\n",
       "    <tr>\n",
       "      <th>59</th>\n",
       "      <td>APPLE iPhone 11 (White, 64 GB)</td>\n",
       "      <td>https://www.flipkart.com/apple-iphone-11-white...</td>\n",
       "      <td>Apple</td>\n",
       "      <td>46999</td>\n",
       "      <td>54900</td>\n",
       "      <td>43470</td>\n",
       "      <td>3331</td>\n",
       "      <td>MOBFWQ6BVWVEH3XE</td>\n",
       "      <td>4.6</td>\n",
       "      <td>4 GB</td>\n",
       "    </tr>\n",
       "    <tr>\n",
       "      <th>60</th>\n",
       "      <td>APPLE iPhone 11 (Black, 64 GB)</td>\n",
       "      <td>https://www.flipkart.com/apple-iphone-11-black...</td>\n",
       "      <td>Apple</td>\n",
       "      <td>46999</td>\n",
       "      <td>54900</td>\n",
       "      <td>43470</td>\n",
       "      <td>3331</td>\n",
       "      <td>MOBFWQ6BXGJCEYNY</td>\n",
       "      <td>4.6</td>\n",
       "      <td>4 GB</td>\n",
       "    </tr>\n",
       "    <tr>\n",
       "      <th>61</th>\n",
       "      <td>APPLE iPhone 11 (Red, 64 GB)</td>\n",
       "      <td>https://www.flipkart.com/apple-iphone-11-red-6...</td>\n",
       "      <td>Apple</td>\n",
       "      <td>46999</td>\n",
       "      <td>54900</td>\n",
       "      <td>43470</td>\n",
       "      <td>3331</td>\n",
       "      <td>MOBFWQ6BYYV3FCU7</td>\n",
       "      <td>4.6</td>\n",
       "      <td>4 GB</td>\n",
       "    </tr>\n",
       "  </tbody>\n",
       "</table>\n",
       "<p>62 rows × 10 columns</p>\n",
       "</div>"
      ],
      "text/plain": [
       "                                Product Name  \\\n",
       "0          APPLE iPhone 8 Plus (Gold, 64 GB)   \n",
       "1   APPLE iPhone 8 Plus (Space Grey, 256 GB)   \n",
       "2       APPLE iPhone 8 Plus (Silver, 256 GB)   \n",
       "3            APPLE iPhone 8 (Silver, 256 GB)   \n",
       "4              APPLE iPhone 8 (Gold, 256 GB)   \n",
       "..                                       ...   \n",
       "57            APPLE iPhone SE (Black, 64 GB)   \n",
       "58           APPLE iPhone 11 (Purple, 64 GB)   \n",
       "59            APPLE iPhone 11 (White, 64 GB)   \n",
       "60            APPLE iPhone 11 (Black, 64 GB)   \n",
       "61              APPLE iPhone 11 (Red, 64 GB)   \n",
       "\n",
       "                                          Product URL  Brand  Sale Price  \\\n",
       "0   https://www.flipkart.com/apple-iphone-8-plus-g...  Apple       49900   \n",
       "1   https://www.flipkart.com/apple-iphone-8-plus-s...  Apple       84900   \n",
       "2   https://www.flipkart.com/apple-iphone-8-plus-s...  Apple       84900   \n",
       "3   https://www.flipkart.com/apple-iphone-8-silver...  Apple       77000   \n",
       "4   https://www.flipkart.com/apple-iphone-8-gold-2...  Apple       77000   \n",
       "..                                                ...    ...         ...   \n",
       "57  https://www.flipkart.com/apple-iphone-se-black...  Apple       29999   \n",
       "58  https://www.flipkart.com/apple-iphone-11-purpl...  Apple       46999   \n",
       "59  https://www.flipkart.com/apple-iphone-11-white...  Apple       46999   \n",
       "60  https://www.flipkart.com/apple-iphone-11-black...  Apple       46999   \n",
       "61  https://www.flipkart.com/apple-iphone-11-red-6...  Apple       46999   \n",
       "\n",
       "      Mrp  Number Of Ratings  Number Of Reviews               Upc  \\\n",
       "0   49900               3431                356  MOBEXRGV7EHHTGUH   \n",
       "1   84900               3431                356  MOBEXRGVAC6TJT4F   \n",
       "2   84900               3431                356  MOBEXRGVGETABXWZ   \n",
       "3   77000              11202                794  MOBEXRGVMZWUHCBA   \n",
       "4   77000              11202                794  MOBEXRGVPK7PFEJZ   \n",
       "..    ...                ...                ...               ...   \n",
       "57  39900              95909               8161  MOBFWQ6BR3MK7AUG   \n",
       "58  54900              43470               3331  MOBFWQ6BTFFJKGKE   \n",
       "59  54900              43470               3331  MOBFWQ6BVWVEH3XE   \n",
       "60  54900              43470               3331  MOBFWQ6BXGJCEYNY   \n",
       "61  54900              43470               3331  MOBFWQ6BYYV3FCU7   \n",
       "\n",
       "    Star Rating   Ram  \n",
       "0           4.6  2 GB  \n",
       "1           4.6  2 GB  \n",
       "2           4.6  2 GB  \n",
       "3           NaN  2 GB  \n",
       "4           4.5  2 GB  \n",
       "..          ...   ...  \n",
       "57          4.5  4 GB  \n",
       "58          4.6  4 GB  \n",
       "59          4.6  4 GB  \n",
       "60          4.6  4 GB  \n",
       "61          4.6  4 GB  \n",
       "\n",
       "[62 rows x 10 columns]"
      ]
     },
     "execution_count": 29,
     "metadata": {},
     "output_type": "execute_result"
    }
   ],
   "source": [
    "df_combine_iphone"
   ]
  },
  {
   "cell_type": "code",
   "execution_count": 30,
   "id": "c03f0616-b2f9-4d21-b568-0d4cd2576adc",
   "metadata": {},
   "outputs": [],
   "source": [
    "#making a copy\n",
    "df_iphone = df_combine_iphone.copy(deep=True)"
   ]
  },
  {
   "cell_type": "markdown",
   "id": "8f96ca1c-c565-4b35-8b04-e6efa569cb1c",
   "metadata": {},
   "source": [
    "## Doing Some Changes in the Data (Transformation)"
   ]
  },
  {
   "cell_type": "code",
   "execution_count": 31,
   "id": "cbea1efc-587b-419e-82a0-c3ceb4e06515",
   "metadata": {},
   "outputs": [],
   "source": [
    "df_iphone[['Brand','Model Details']] = df_iphone['Product Name'].apply(lambda x: pd.Series(x.split('(',1)))"
   ]
  },
  {
   "cell_type": "code",
   "execution_count": 32,
   "id": "7611a07f-2104-4723-ba47-1092e81d2577",
   "metadata": {},
   "outputs": [],
   "source": [
    "df_iphone[['Color','Storage']] = df_iphone['Model Details'].apply(lambda x: pd.Series(x.split(',',1)))"
   ]
  },
  {
   "cell_type": "code",
   "execution_count": 33,
   "id": "79d2297e-e300-4a95-94ab-4524a515527c",
   "metadata": {},
   "outputs": [],
   "source": [
    "columns_list = ['Model Details','Storage']\n",
    "for col in columns_list:\n",
    "    df_iphone[col] = df_iphone[col].apply(lambda x: pd.Series(x.rstrip(')')))"
   ]
  },
  {
   "cell_type": "code",
   "execution_count": 34,
   "id": "3376667e-4b35-4662-b40f-73028a76bb25",
   "metadata": {},
   "outputs": [],
   "source": [
    "#adding new column \"Standard Model\"\n",
    "\n",
    "def iphone_main_model_name(brand):\n",
    "    if 'iPhone 8' in brand:\n",
    "        return 'iphone 8'\n",
    "    elif 'iPhone XS' in brand:\n",
    "        return 'iPhone XS'\n",
    "    elif 'iPhone XR' in brand:\n",
    "        return 'iPhone XR'\n",
    "    elif 'iPhone 11' in brand:\n",
    "        return 'iPhone 11'\n",
    "    elif 'iPhone SE' in brand:\n",
    "        return 'iPhone SE'\n",
    "    else:\n",
    "        return 'iPhone 12'\n",
    "\n",
    "#df_iphone['Standard_Model'] = iphone_main_model_name(df_iphone['Brand'])\n",
    "df_iphone[\"Standard_Model\"] = df_iphone[\"Brand\"].apply(iphone_main_model_name)"
   ]
  },
  {
   "cell_type": "code",
   "execution_count": 35,
   "id": "bb982682-1ad2-4506-a637-aa098a31dd4d",
   "metadata": {},
   "outputs": [],
   "source": [
    "df_iphone.drop(['Model Details'], axis=1, inplace=True)"
   ]
  },
  {
   "cell_type": "code",
   "execution_count": 36,
   "id": "6c5c8243-0fac-43de-833b-c67805b298ff",
   "metadata": {},
   "outputs": [],
   "source": [
    "df_iphone['Color'] = df_iphone['Color'].apply(lambda x: x.capitalize())"
   ]
  },
  {
   "cell_type": "code",
   "execution_count": 37,
   "id": "6d1f05bb-dfbb-4533-b84e-04a1126d8b1f",
   "metadata": {},
   "outputs": [],
   "source": [
    "df_iphone.rename(columns = {'Product Name':'Product_Name', 'Product URL':'Product_URL', 'Sale Price':'Sale_Price', 'Number Of Ratings':'Number_Of_Ratings', 'Number Of Reviews':'Number_Of_Reviews', 'Star Rating':'Star_Rating', 'Standard Model':'Standard_Model'}, inplace=True)"
   ]
  },
  {
   "cell_type": "code",
   "execution_count": 38,
   "id": "c59c0cb6-5afc-4fd7-b7ce-5e45bc88c52b",
   "metadata": {},
   "outputs": [],
   "source": [
    "#avg_rating = df_iphone['Star_Rating'].mean()\n",
    "#df_iphone['Star_Rating'].fillna(value = avg_rating, inplace=True)"
   ]
  },
  {
   "cell_type": "code",
   "execution_count": 39,
   "id": "4641d632-9bfa-4f0a-b113-cfe16c94b483",
   "metadata": {},
   "outputs": [
    {
     "data": {
      "text/plain": [
       "Ram\n",
       "2 GB    4.541667\n",
       "3 GB    4.600000\n",
       "4 GB    4.589286\n",
       "6 GB    4.577778\n",
       "Name: Star_Rating, dtype: float64"
      ]
     },
     "execution_count": 39,
     "metadata": {},
     "output_type": "execute_result"
    }
   ],
   "source": [
    "ram_wise_avg_rating = df_iphone.groupby(['Ram'])['Star_Rating'].mean()\n",
    "ram_wise_avg_rating"
   ]
  },
  {
   "cell_type": "code",
   "execution_count": 40,
   "id": "cab907e2-68f8-4b2c-b6c7-2bb5410d103d",
   "metadata": {},
   "outputs": [
    {
     "data": {
      "text/html": [
       "<div>\n",
       "<style scoped>\n",
       "    .dataframe tbody tr th:only-of-type {\n",
       "        vertical-align: middle;\n",
       "    }\n",
       "\n",
       "    .dataframe tbody tr th {\n",
       "        vertical-align: top;\n",
       "    }\n",
       "\n",
       "    .dataframe thead th {\n",
       "        text-align: right;\n",
       "    }\n",
       "</style>\n",
       "<table border=\"1\" class=\"dataframe\">\n",
       "  <thead>\n",
       "    <tr style=\"text-align: right;\">\n",
       "      <th></th>\n",
       "      <th>Product_Name</th>\n",
       "      <th>Product_URL</th>\n",
       "      <th>Brand</th>\n",
       "      <th>Sale_Price</th>\n",
       "      <th>Mrp</th>\n",
       "      <th>Number_Of_Ratings</th>\n",
       "      <th>Number_Of_Reviews</th>\n",
       "      <th>Upc</th>\n",
       "      <th>Star_Rating</th>\n",
       "      <th>Ram</th>\n",
       "      <th>Color</th>\n",
       "      <th>Storage</th>\n",
       "      <th>Standard_Model</th>\n",
       "    </tr>\n",
       "  </thead>\n",
       "  <tbody>\n",
       "    <tr>\n",
       "      <th>0</th>\n",
       "      <td>APPLE iPhone 8 Plus (Gold, 64 GB)</td>\n",
       "      <td>https://www.flipkart.com/apple-iphone-8-plus-g...</td>\n",
       "      <td>APPLE iPhone 8 Plus</td>\n",
       "      <td>49900</td>\n",
       "      <td>49900</td>\n",
       "      <td>3431</td>\n",
       "      <td>356</td>\n",
       "      <td>MOBEXRGV7EHHTGUH</td>\n",
       "      <td>4.6</td>\n",
       "      <td>2 GB</td>\n",
       "      <td>Gold</td>\n",
       "      <td>64 GB</td>\n",
       "      <td>iphone 8</td>\n",
       "    </tr>\n",
       "    <tr>\n",
       "      <th>1</th>\n",
       "      <td>APPLE iPhone 8 Plus (Space Grey, 256 GB)</td>\n",
       "      <td>https://www.flipkart.com/apple-iphone-8-plus-s...</td>\n",
       "      <td>APPLE iPhone 8 Plus</td>\n",
       "      <td>84900</td>\n",
       "      <td>84900</td>\n",
       "      <td>3431</td>\n",
       "      <td>356</td>\n",
       "      <td>MOBEXRGVAC6TJT4F</td>\n",
       "      <td>4.6</td>\n",
       "      <td>2 GB</td>\n",
       "      <td>Space grey</td>\n",
       "      <td>256 GB</td>\n",
       "      <td>iphone 8</td>\n",
       "    </tr>\n",
       "    <tr>\n",
       "      <th>2</th>\n",
       "      <td>APPLE iPhone 8 Plus (Silver, 256 GB)</td>\n",
       "      <td>https://www.flipkart.com/apple-iphone-8-plus-s...</td>\n",
       "      <td>APPLE iPhone 8 Plus</td>\n",
       "      <td>84900</td>\n",
       "      <td>84900</td>\n",
       "      <td>3431</td>\n",
       "      <td>356</td>\n",
       "      <td>MOBEXRGVGETABXWZ</td>\n",
       "      <td>4.6</td>\n",
       "      <td>2 GB</td>\n",
       "      <td>Silver</td>\n",
       "      <td>256 GB</td>\n",
       "      <td>iphone 8</td>\n",
       "    </tr>\n",
       "    <tr>\n",
       "      <th>3</th>\n",
       "      <td>APPLE iPhone 8 (Silver, 256 GB)</td>\n",
       "      <td>https://www.flipkart.com/apple-iphone-8-silver...</td>\n",
       "      <td>APPLE iPhone 8</td>\n",
       "      <td>77000</td>\n",
       "      <td>77000</td>\n",
       "      <td>11202</td>\n",
       "      <td>794</td>\n",
       "      <td>MOBEXRGVMZWUHCBA</td>\n",
       "      <td>NaN</td>\n",
       "      <td>2 GB</td>\n",
       "      <td>Silver</td>\n",
       "      <td>256 GB</td>\n",
       "      <td>iphone 8</td>\n",
       "    </tr>\n",
       "    <tr>\n",
       "      <th>4</th>\n",
       "      <td>APPLE iPhone 8 (Gold, 256 GB)</td>\n",
       "      <td>https://www.flipkart.com/apple-iphone-8-gold-2...</td>\n",
       "      <td>APPLE iPhone 8</td>\n",
       "      <td>77000</td>\n",
       "      <td>77000</td>\n",
       "      <td>11202</td>\n",
       "      <td>794</td>\n",
       "      <td>MOBEXRGVPK7PFEJZ</td>\n",
       "      <td>4.5</td>\n",
       "      <td>2 GB</td>\n",
       "      <td>Gold</td>\n",
       "      <td>256 GB</td>\n",
       "      <td>iphone 8</td>\n",
       "    </tr>\n",
       "    <tr>\n",
       "      <th>...</th>\n",
       "      <td>...</td>\n",
       "      <td>...</td>\n",
       "      <td>...</td>\n",
       "      <td>...</td>\n",
       "      <td>...</td>\n",
       "      <td>...</td>\n",
       "      <td>...</td>\n",
       "      <td>...</td>\n",
       "      <td>...</td>\n",
       "      <td>...</td>\n",
       "      <td>...</td>\n",
       "      <td>...</td>\n",
       "      <td>...</td>\n",
       "    </tr>\n",
       "    <tr>\n",
       "      <th>57</th>\n",
       "      <td>APPLE iPhone SE (Black, 64 GB)</td>\n",
       "      <td>https://www.flipkart.com/apple-iphone-se-black...</td>\n",
       "      <td>APPLE iPhone SE</td>\n",
       "      <td>29999</td>\n",
       "      <td>39900</td>\n",
       "      <td>95909</td>\n",
       "      <td>8161</td>\n",
       "      <td>MOBFWQ6BR3MK7AUG</td>\n",
       "      <td>4.5</td>\n",
       "      <td>4 GB</td>\n",
       "      <td>Black</td>\n",
       "      <td>64 GB</td>\n",
       "      <td>iPhone SE</td>\n",
       "    </tr>\n",
       "    <tr>\n",
       "      <th>58</th>\n",
       "      <td>APPLE iPhone 11 (Purple, 64 GB)</td>\n",
       "      <td>https://www.flipkart.com/apple-iphone-11-purpl...</td>\n",
       "      <td>APPLE iPhone 11</td>\n",
       "      <td>46999</td>\n",
       "      <td>54900</td>\n",
       "      <td>43470</td>\n",
       "      <td>3331</td>\n",
       "      <td>MOBFWQ6BTFFJKGKE</td>\n",
       "      <td>4.6</td>\n",
       "      <td>4 GB</td>\n",
       "      <td>Purple</td>\n",
       "      <td>64 GB</td>\n",
       "      <td>iPhone 11</td>\n",
       "    </tr>\n",
       "    <tr>\n",
       "      <th>59</th>\n",
       "      <td>APPLE iPhone 11 (White, 64 GB)</td>\n",
       "      <td>https://www.flipkart.com/apple-iphone-11-white...</td>\n",
       "      <td>APPLE iPhone 11</td>\n",
       "      <td>46999</td>\n",
       "      <td>54900</td>\n",
       "      <td>43470</td>\n",
       "      <td>3331</td>\n",
       "      <td>MOBFWQ6BVWVEH3XE</td>\n",
       "      <td>4.6</td>\n",
       "      <td>4 GB</td>\n",
       "      <td>White</td>\n",
       "      <td>64 GB</td>\n",
       "      <td>iPhone 11</td>\n",
       "    </tr>\n",
       "    <tr>\n",
       "      <th>60</th>\n",
       "      <td>APPLE iPhone 11 (Black, 64 GB)</td>\n",
       "      <td>https://www.flipkart.com/apple-iphone-11-black...</td>\n",
       "      <td>APPLE iPhone 11</td>\n",
       "      <td>46999</td>\n",
       "      <td>54900</td>\n",
       "      <td>43470</td>\n",
       "      <td>3331</td>\n",
       "      <td>MOBFWQ6BXGJCEYNY</td>\n",
       "      <td>4.6</td>\n",
       "      <td>4 GB</td>\n",
       "      <td>Black</td>\n",
       "      <td>64 GB</td>\n",
       "      <td>iPhone 11</td>\n",
       "    </tr>\n",
       "    <tr>\n",
       "      <th>61</th>\n",
       "      <td>APPLE iPhone 11 (Red, 64 GB)</td>\n",
       "      <td>https://www.flipkart.com/apple-iphone-11-red-6...</td>\n",
       "      <td>APPLE iPhone 11</td>\n",
       "      <td>46999</td>\n",
       "      <td>54900</td>\n",
       "      <td>43470</td>\n",
       "      <td>3331</td>\n",
       "      <td>MOBFWQ6BYYV3FCU7</td>\n",
       "      <td>4.6</td>\n",
       "      <td>4 GB</td>\n",
       "      <td>Red</td>\n",
       "      <td>64 GB</td>\n",
       "      <td>iPhone 11</td>\n",
       "    </tr>\n",
       "  </tbody>\n",
       "</table>\n",
       "<p>62 rows × 13 columns</p>\n",
       "</div>"
      ],
      "text/plain": [
       "                                Product_Name  \\\n",
       "0          APPLE iPhone 8 Plus (Gold, 64 GB)   \n",
       "1   APPLE iPhone 8 Plus (Space Grey, 256 GB)   \n",
       "2       APPLE iPhone 8 Plus (Silver, 256 GB)   \n",
       "3            APPLE iPhone 8 (Silver, 256 GB)   \n",
       "4              APPLE iPhone 8 (Gold, 256 GB)   \n",
       "..                                       ...   \n",
       "57            APPLE iPhone SE (Black, 64 GB)   \n",
       "58           APPLE iPhone 11 (Purple, 64 GB)   \n",
       "59            APPLE iPhone 11 (White, 64 GB)   \n",
       "60            APPLE iPhone 11 (Black, 64 GB)   \n",
       "61              APPLE iPhone 11 (Red, 64 GB)   \n",
       "\n",
       "                                          Product_URL                 Brand  \\\n",
       "0   https://www.flipkart.com/apple-iphone-8-plus-g...  APPLE iPhone 8 Plus    \n",
       "1   https://www.flipkart.com/apple-iphone-8-plus-s...  APPLE iPhone 8 Plus    \n",
       "2   https://www.flipkart.com/apple-iphone-8-plus-s...  APPLE iPhone 8 Plus    \n",
       "3   https://www.flipkart.com/apple-iphone-8-silver...       APPLE iPhone 8    \n",
       "4   https://www.flipkart.com/apple-iphone-8-gold-2...       APPLE iPhone 8    \n",
       "..                                                ...                   ...   \n",
       "57  https://www.flipkart.com/apple-iphone-se-black...      APPLE iPhone SE    \n",
       "58  https://www.flipkart.com/apple-iphone-11-purpl...      APPLE iPhone 11    \n",
       "59  https://www.flipkart.com/apple-iphone-11-white...      APPLE iPhone 11    \n",
       "60  https://www.flipkart.com/apple-iphone-11-black...      APPLE iPhone 11    \n",
       "61  https://www.flipkart.com/apple-iphone-11-red-6...      APPLE iPhone 11    \n",
       "\n",
       "    Sale_Price    Mrp  Number_Of_Ratings  Number_Of_Reviews               Upc  \\\n",
       "0        49900  49900               3431                356  MOBEXRGV7EHHTGUH   \n",
       "1        84900  84900               3431                356  MOBEXRGVAC6TJT4F   \n",
       "2        84900  84900               3431                356  MOBEXRGVGETABXWZ   \n",
       "3        77000  77000              11202                794  MOBEXRGVMZWUHCBA   \n",
       "4        77000  77000              11202                794  MOBEXRGVPK7PFEJZ   \n",
       "..         ...    ...                ...                ...               ...   \n",
       "57       29999  39900              95909               8161  MOBFWQ6BR3MK7AUG   \n",
       "58       46999  54900              43470               3331  MOBFWQ6BTFFJKGKE   \n",
       "59       46999  54900              43470               3331  MOBFWQ6BVWVEH3XE   \n",
       "60       46999  54900              43470               3331  MOBFWQ6BXGJCEYNY   \n",
       "61       46999  54900              43470               3331  MOBFWQ6BYYV3FCU7   \n",
       "\n",
       "    Star_Rating   Ram       Color  Storage Standard_Model  \n",
       "0           4.6  2 GB        Gold    64 GB       iphone 8  \n",
       "1           4.6  2 GB  Space grey   256 GB       iphone 8  \n",
       "2           4.6  2 GB      Silver   256 GB       iphone 8  \n",
       "3           NaN  2 GB      Silver   256 GB       iphone 8  \n",
       "4           4.5  2 GB        Gold   256 GB       iphone 8  \n",
       "..          ...   ...         ...      ...            ...  \n",
       "57          4.5  4 GB       Black    64 GB      iPhone SE  \n",
       "58          4.6  4 GB      Purple    64 GB      iPhone 11  \n",
       "59          4.6  4 GB       White    64 GB      iPhone 11  \n",
       "60          4.6  4 GB       Black    64 GB      iPhone 11  \n",
       "61          4.6  4 GB         Red    64 GB      iPhone 11  \n",
       "\n",
       "[62 rows x 13 columns]"
      ]
     },
     "execution_count": 40,
     "metadata": {},
     "output_type": "execute_result"
    }
   ],
   "source": [
    "df_iphone"
   ]
  },
  {
   "cell_type": "code",
   "execution_count": 41,
   "id": "672f5ecb-8e7b-407d-ba47-cd87ce646c9d",
   "metadata": {},
   "outputs": [],
   "source": [
    "for index, row in df_iphone.iterrows():\n",
    "    if pd.isnull(row['Star_Rating']):\n",
    "        ram = row['Ram']\n",
    "        avg_rating = ram_wise_avg_rating[ram]\n",
    "        df_iphone.at[index, 'Star_Rating'] = avg_rating"
   ]
  },
  {
   "cell_type": "code",
   "execution_count": 42,
   "id": "99ef6070-06ba-4f48-b3aa-26a866032c18",
   "metadata": {},
   "outputs": [],
   "source": [
    "df_iphone['Discount_Percentage'] = ((df_iphone['Mrp'] - df_iphone['Sale_Price'])/ df_iphone['Mrp']) * 100"
   ]
  },
  {
   "cell_type": "markdown",
   "id": "8177440e-0d54-4766-90ac-4b28c3369089",
   "metadata": {},
   "source": [
    "## Loading Clean Data To SQL"
   ]
  },
  {
   "cell_type": "code",
   "execution_count": 43,
   "id": "a384b8fc-41f7-49ee-8b25-0c0d9da6abca",
   "metadata": {},
   "outputs": [
    {
     "data": {
      "text/plain": [
       "62"
      ]
     },
     "execution_count": 43,
     "metadata": {},
     "output_type": "execute_result"
    }
   ],
   "source": [
    "engine = sal.create_engine('mssql://DESKTOP-EAQGBSR\\SQLEXPRESS/python?driver=ODBC+Driver+17+for+SQL+Server')\n",
    "connection_est = engine.connect()\n",
    "\n",
    "df_iphone.to_sql('df_iphone', con=connection_est, index=False, if_exists='replace')"
   ]
  },
  {
   "cell_type": "markdown",
   "id": "84419b10-fac6-45ba-b322-f533b32646e8",
   "metadata": {},
   "source": [
    "## Extracting SQL Table for Analysis"
   ]
  },
  {
   "cell_type": "code",
   "execution_count": 44,
   "id": "fcf6cfa8-7b8b-41f5-811c-8bbd405786af",
   "metadata": {
    "scrolled": true
   },
   "outputs": [],
   "source": [
    "df_sql_iphone = pd.read_sql_query('select * from [dbo].[df_iphone]',connection_est)"
   ]
  },
  {
   "cell_type": "markdown",
   "id": "6d21a1fd-8bea-478c-a192-39f88e3ba5a2",
   "metadata": {},
   "source": [
    "### Q: Which model has highest percent discount ?"
   ]
  },
  {
   "cell_type": "code",
   "execution_count": 45,
   "id": "4351fd9d-3914-4018-83d3-055ff59a3ee3",
   "metadata": {},
   "outputs": [
    {
     "data": {
      "text/plain": [
       "Brand                  APPLE iPhone 11 Pro \n",
       "Discount_Percentage               29.644465\n",
       "Name: 1, dtype: object"
      ]
     },
     "execution_count": 45,
     "metadata": {},
     "output_type": "execute_result"
    }
   ],
   "source": [
    "df_max_brand_disc =  df_sql_iphone.groupby(['Brand'], as_index=False)['Discount_Percentage'].max().sort_values('Discount_Percentage', ascending=False).iloc[0]\n",
    "df_max_brand_disc"
   ]
  },
  {
   "cell_type": "markdown",
   "id": "94f2f2a5-ffff-412a-8716-7b637d7217a6",
   "metadata": {},
   "source": [
    "### Q: find total no of models  each space configuration (128 GB , 64 GB etc)"
   ]
  },
  {
   "cell_type": "code",
   "execution_count": 46,
   "id": "d92a0109-8b66-4e7e-940c-ec28c40bea39",
   "metadata": {},
   "outputs": [
    {
     "data": {
      "text/html": [
       "<div>\n",
       "<style scoped>\n",
       "    .dataframe tbody tr th:only-of-type {\n",
       "        vertical-align: middle;\n",
       "    }\n",
       "\n",
       "    .dataframe tbody tr th {\n",
       "        vertical-align: top;\n",
       "    }\n",
       "\n",
       "    .dataframe thead th {\n",
       "        text-align: right;\n",
       "    }\n",
       "</style>\n",
       "<table border=\"1\" class=\"dataframe\">\n",
       "  <thead>\n",
       "    <tr style=\"text-align: right;\">\n",
       "      <th></th>\n",
       "      <th>Storage</th>\n",
       "      <th>total</th>\n",
       "    </tr>\n",
       "  </thead>\n",
       "  <tbody>\n",
       "    <tr>\n",
       "      <th>0</th>\n",
       "      <td>128 GB</td>\n",
       "      <td>24</td>\n",
       "    </tr>\n",
       "    <tr>\n",
       "      <th>1</th>\n",
       "      <td>256 GB</td>\n",
       "      <td>14</td>\n",
       "    </tr>\n",
       "    <tr>\n",
       "      <th>2</th>\n",
       "      <td>512 GB</td>\n",
       "      <td>4</td>\n",
       "    </tr>\n",
       "    <tr>\n",
       "      <th>3</th>\n",
       "      <td>64 GB</td>\n",
       "      <td>20</td>\n",
       "    </tr>\n",
       "  </tbody>\n",
       "</table>\n",
       "</div>"
      ],
      "text/plain": [
       "   Storage  total\n",
       "0   128 GB     24\n",
       "1   256 GB     14\n",
       "2   512 GB      4\n",
       "3    64 GB     20"
      ]
     },
     "execution_count": 46,
     "metadata": {},
     "output_type": "execute_result"
    }
   ],
   "source": [
    "df_storage_wise = df_sql_iphone.groupby('Storage').size().reset_index(name='total')\n",
    "df_storage_wise"
   ]
  },
  {
   "cell_type": "markdown",
   "id": "7d577ab2-f079-46c2-88d3-3176650f916a",
   "metadata": {},
   "source": [
    "### Q: find total number of models for each color"
   ]
  },
  {
   "cell_type": "code",
   "execution_count": 48,
   "id": "fa20f08d-e522-41a1-a561-b589d7d89547",
   "metadata": {},
   "outputs": [
    {
     "data": {
      "text/html": [
       "<div>\n",
       "<style scoped>\n",
       "    .dataframe tbody tr th:only-of-type {\n",
       "        vertical-align: middle;\n",
       "    }\n",
       "\n",
       "    .dataframe tbody tr th {\n",
       "        vertical-align: top;\n",
       "    }\n",
       "\n",
       "    .dataframe thead th {\n",
       "        text-align: right;\n",
       "    }\n",
       "</style>\n",
       "<table border=\"1\" class=\"dataframe\">\n",
       "  <thead>\n",
       "    <tr style=\"text-align: right;\">\n",
       "      <th></th>\n",
       "      <th>Color</th>\n",
       "      <th>Total</th>\n",
       "    </tr>\n",
       "  </thead>\n",
       "  <tbody>\n",
       "    <tr>\n",
       "      <th>0</th>\n",
       "      <td>Black</td>\n",
       "      <td>10</td>\n",
       "    </tr>\n",
       "    <tr>\n",
       "      <th>1</th>\n",
       "      <td>Blue</td>\n",
       "      <td>2</td>\n",
       "    </tr>\n",
       "    <tr>\n",
       "      <th>2</th>\n",
       "      <td>Coral</td>\n",
       "      <td>1</td>\n",
       "    </tr>\n",
       "    <tr>\n",
       "      <th>3</th>\n",
       "      <td>Gold</td>\n",
       "      <td>6</td>\n",
       "    </tr>\n",
       "    <tr>\n",
       "      <th>4</th>\n",
       "      <td>Graphite</td>\n",
       "      <td>4</td>\n",
       "    </tr>\n",
       "    <tr>\n",
       "      <th>5</th>\n",
       "      <td>Green</td>\n",
       "      <td>1</td>\n",
       "    </tr>\n",
       "    <tr>\n",
       "      <th>6</th>\n",
       "      <td>Midnight green</td>\n",
       "      <td>4</td>\n",
       "    </tr>\n",
       "    <tr>\n",
       "      <th>7</th>\n",
       "      <td>Pacific blue</td>\n",
       "      <td>4</td>\n",
       "    </tr>\n",
       "    <tr>\n",
       "      <th>8</th>\n",
       "      <td>Purple</td>\n",
       "      <td>1</td>\n",
       "    </tr>\n",
       "    <tr>\n",
       "      <th>9</th>\n",
       "      <td>Red</td>\n",
       "      <td>6</td>\n",
       "    </tr>\n",
       "    <tr>\n",
       "      <th>10</th>\n",
       "      <td>Silver</td>\n",
       "      <td>7</td>\n",
       "    </tr>\n",
       "    <tr>\n",
       "      <th>11</th>\n",
       "      <td>Space grey</td>\n",
       "      <td>6</td>\n",
       "    </tr>\n",
       "    <tr>\n",
       "      <th>12</th>\n",
       "      <td>White</td>\n",
       "      <td>10</td>\n",
       "    </tr>\n",
       "  </tbody>\n",
       "</table>\n",
       "</div>"
      ],
      "text/plain": [
       "             Color  Total\n",
       "0            Black     10\n",
       "1             Blue      2\n",
       "2            Coral      1\n",
       "3             Gold      6\n",
       "4         Graphite      4\n",
       "5            Green      1\n",
       "6   Midnight green      4\n",
       "7     Pacific blue      4\n",
       "8           Purple      1\n",
       "9              Red      6\n",
       "10          Silver      7\n",
       "11      Space grey      6\n",
       "12           White     10"
      ]
     },
     "execution_count": 48,
     "metadata": {},
     "output_type": "execute_result"
    }
   ],
   "source": [
    "df_color_wise = df_sql_iphone.groupby(['Color']).size().reset_index(name='Total')\n",
    "df_color_wise"
   ]
  },
  {
   "cell_type": "markdown",
   "id": "24a2db6f-40e8-4660-bdd4-90f27768dae3",
   "metadata": {},
   "source": [
    "### Q: find total number of models by iphone versions"
   ]
  },
  {
   "cell_type": "code",
   "execution_count": 54,
   "id": "78b694cd-f103-4c19-80e1-61ff85ead510",
   "metadata": {},
   "outputs": [
    {
     "data": {
      "text/html": [
       "<div>\n",
       "<style scoped>\n",
       "    .dataframe tbody tr th:only-of-type {\n",
       "        vertical-align: middle;\n",
       "    }\n",
       "\n",
       "    .dataframe tbody tr th {\n",
       "        vertical-align: top;\n",
       "    }\n",
       "\n",
       "    .dataframe thead th {\n",
       "        text-align: right;\n",
       "    }\n",
       "</style>\n",
       "<table border=\"1\" class=\"dataframe\">\n",
       "  <thead>\n",
       "    <tr style=\"text-align: right;\">\n",
       "      <th></th>\n",
       "      <th>Standard_Model</th>\n",
       "      <th>count</th>\n",
       "    </tr>\n",
       "  </thead>\n",
       "  <tbody>\n",
       "    <tr>\n",
       "      <th>0</th>\n",
       "      <td>iPhone 11</td>\n",
       "      <td>16</td>\n",
       "    </tr>\n",
       "    <tr>\n",
       "      <th>1</th>\n",
       "      <td>iPhone 12</td>\n",
       "      <td>26</td>\n",
       "    </tr>\n",
       "    <tr>\n",
       "      <th>2</th>\n",
       "      <td>iPhone SE</td>\n",
       "      <td>6</td>\n",
       "    </tr>\n",
       "    <tr>\n",
       "      <th>3</th>\n",
       "      <td>iPhone XR</td>\n",
       "      <td>5</td>\n",
       "    </tr>\n",
       "    <tr>\n",
       "      <th>4</th>\n",
       "      <td>iPhone XS</td>\n",
       "      <td>1</td>\n",
       "    </tr>\n",
       "    <tr>\n",
       "      <th>5</th>\n",
       "      <td>iphone 8</td>\n",
       "      <td>8</td>\n",
       "    </tr>\n",
       "  </tbody>\n",
       "</table>\n",
       "</div>"
      ],
      "text/plain": [
       "  Standard_Model  count\n",
       "0      iPhone 11     16\n",
       "1      iPhone 12     26\n",
       "2      iPhone SE      6\n",
       "3      iPhone XR      5\n",
       "4      iPhone XS      1\n",
       "5       iphone 8      8"
      ]
     },
     "execution_count": 54,
     "metadata": {},
     "output_type": "execute_result"
    }
   ],
   "source": [
    "df_iphone_main_models = df_sql_iphone.groupby(['Standard_Model']).size().reset_index(name='count')\n",
    "df_iphone_main_models"
   ]
  },
  {
   "cell_type": "markdown",
   "id": "0b070d1a-d7e9-449c-82c5-38bbe7332671",
   "metadata": {},
   "source": [
    "### Q: list top 5 models having highest number of reviews"
   ]
  },
  {
   "cell_type": "code",
   "execution_count": 64,
   "id": "ed87b986-7424-4b05-b8d1-b8ca69e1161f",
   "metadata": {},
   "outputs": [
    {
     "data": {
      "text/html": [
       "<div>\n",
       "<style scoped>\n",
       "    .dataframe tbody tr th:only-of-type {\n",
       "        vertical-align: middle;\n",
       "    }\n",
       "\n",
       "    .dataframe tbody tr th {\n",
       "        vertical-align: top;\n",
       "    }\n",
       "\n",
       "    .dataframe thead th {\n",
       "        text-align: right;\n",
       "    }\n",
       "</style>\n",
       "<table border=\"1\" class=\"dataframe\">\n",
       "  <thead>\n",
       "    <tr style=\"text-align: right;\">\n",
       "      <th></th>\n",
       "      <th>Brand</th>\n",
       "      <th>count</th>\n",
       "    </tr>\n",
       "  </thead>\n",
       "  <tbody>\n",
       "    <tr>\n",
       "      <th>6</th>\n",
       "      <td>APPLE iPhone 12 Pro Max</td>\n",
       "      <td>8</td>\n",
       "    </tr>\n",
       "    <tr>\n",
       "      <th>0</th>\n",
       "      <td>APPLE iPhone 11</td>\n",
       "      <td>7</td>\n",
       "    </tr>\n",
       "    <tr>\n",
       "      <th>3</th>\n",
       "      <td>APPLE iPhone 12</td>\n",
       "      <td>7</td>\n",
       "    </tr>\n",
       "    <tr>\n",
       "      <th>4</th>\n",
       "      <td>APPLE iPhone 12 Mini</td>\n",
       "      <td>6</td>\n",
       "    </tr>\n",
       "    <tr>\n",
       "      <th>2</th>\n",
       "      <td>APPLE iPhone 11 Pro Max</td>\n",
       "      <td>5</td>\n",
       "    </tr>\n",
       "  </tbody>\n",
       "</table>\n",
       "</div>"
      ],
      "text/plain": [
       "                      Brand  count\n",
       "6  APPLE iPhone 12 Pro Max       8\n",
       "0          APPLE iPhone 11       7\n",
       "3          APPLE iPhone 12       7\n",
       "4     APPLE iPhone 12 Mini       6\n",
       "2  APPLE iPhone 11 Pro Max       5"
      ]
     },
     "execution_count": 64,
     "metadata": {},
     "output_type": "execute_result"
    }
   ],
   "source": [
    "top_iphone_reviews = df_sql_iphone.groupby(['Brand']).size().reset_index(name='count').sort_values('count', ascending=False).iloc[0:5]\n",
    "top_iphone_reviews"
   ]
  },
  {
   "cell_type": "markdown",
   "id": "a805d49d-613e-40d6-9bf3-1bd3976354d3",
   "metadata": {},
   "source": [
    "### Q: what is the price difference between highest price and lowest price iphone (based on mrp)"
   ]
  },
  {
   "cell_type": "code",
   "execution_count": 68,
   "id": "66d83719-0e1d-4690-adae-3f2183901616",
   "metadata": {},
   "outputs": [
    {
     "data": {
      "text/plain": [
       "110000"
      ]
     },
     "execution_count": 68,
     "metadata": {},
     "output_type": "execute_result"
    }
   ],
   "source": [
    "high_price_iphone = df_sql_iphone['Mrp'].max()\n",
    "low_price_iphone = df_sql_iphone['Mrp'].min()\n",
    "price_difference = high_price_iphone - low_price_iphone\n",
    "price_difference"
   ]
  },
  {
   "cell_type": "markdown",
   "id": "08ef52a9-d56f-48d9-a15c-5b9da98791f4",
   "metadata": {},
   "source": [
    "### Q: find total no of reviews for iphone 11 and iphone 12 category . Output should have only 2 rows (for 11 and 12)"
   ]
  },
  {
   "cell_type": "code",
   "execution_count": 74,
   "id": "28e50717-988e-43d1-9e0a-66cf681fe083",
   "metadata": {},
   "outputs": [
    {
     "data": {
      "text/html": [
       "<div>\n",
       "<style scoped>\n",
       "    .dataframe tbody tr th:only-of-type {\n",
       "        vertical-align: middle;\n",
       "    }\n",
       "\n",
       "    .dataframe tbody tr th {\n",
       "        vertical-align: top;\n",
       "    }\n",
       "\n",
       "    .dataframe thead th {\n",
       "        text-align: right;\n",
       "    }\n",
       "</style>\n",
       "<table border=\"1\" class=\"dataframe\">\n",
       "  <thead>\n",
       "    <tr style=\"text-align: right;\">\n",
       "      <th></th>\n",
       "      <th>Standard_Model</th>\n",
       "      <th>total</th>\n",
       "    </tr>\n",
       "  </thead>\n",
       "  <tbody>\n",
       "    <tr>\n",
       "      <th>0</th>\n",
       "      <td>iPhone 11</td>\n",
       "      <td>25965</td>\n",
       "    </tr>\n",
       "    <tr>\n",
       "      <th>1</th>\n",
       "      <td>iPhone 12</td>\n",
       "      <td>2208</td>\n",
       "    </tr>\n",
       "  </tbody>\n",
       "</table>\n",
       "</div>"
      ],
      "text/plain": [
       "  Standard_Model  total\n",
       "0      iPhone 11  25965\n",
       "1      iPhone 12   2208"
      ]
     },
     "execution_count": 74,
     "metadata": {},
     "output_type": "execute_result"
    }
   ],
   "source": [
    "filter_df = df_sql_iphone[df_sql_iphone['Standard_Model'].isin(['iPhone 11', 'iPhone 12'])]\n",
    "df_review_count = filter_df.groupby(['Standard_Model'])['Number_Of_Reviews'].sum().reset_index(name='total')\n",
    "df_review_count"
   ]
  },
  {
   "cell_type": "markdown",
   "id": "d81f65e5-253d-40d5-9d3d-4ccd32b2da50",
   "metadata": {},
   "source": [
    "### Q: which iphone has 3rd highest MRP"
   ]
  },
  {
   "cell_type": "code",
   "execution_count": 79,
   "id": "5ea4d348-31db-4159-a785-47df109ea2c4",
   "metadata": {},
   "outputs": [
    {
     "data": {
      "text/plain": [
       "Brand    APPLE iPhone 12 Pro Max \n",
       "MRP                        139900\n",
       "Name: 6, dtype: object"
      ]
     },
     "execution_count": 79,
     "metadata": {},
     "output_type": "execute_result"
    }
   ],
   "source": [
    "iphone_mrp = df_sql_iphone.groupby(['Brand'])['Mrp'].max().reset_index(name='MRP').sort_values('MRP',ascending=False).iloc[2]\n",
    "iphone_mrp"
   ]
  },
  {
   "cell_type": "markdown",
   "id": "f55a3202-ea2d-4a55-8336-9decee5d0140",
   "metadata": {},
   "source": [
    "### Q: what is the average mrp of iphones which costs above 100,000"
   ]
  },
  {
   "cell_type": "code",
   "execution_count": 91,
   "id": "6d1b3ddd-dd53-465b-82cd-9c7e5f2f304c",
   "metadata": {},
   "outputs": [
    {
     "data": {
      "text/plain": [
       "Standard_Model\n",
       "iPhone 11    124844.444444\n",
       "iPhone 12    134515.384615\n",
       "Name: Mrp, dtype: float64"
      ]
     },
     "execution_count": 91,
     "metadata": {},
     "output_type": "execute_result"
    }
   ],
   "source": [
    "df_above_onelakh = df_sql_iphone[df_sql_iphone['Mrp']>100000]\n",
    "df_above_onelakh.groupby(['Standard_Model'])['Mrp'].mean()"
   ]
  },
  {
   "cell_type": "code",
   "execution_count": null,
   "id": "88b8a9d7-352b-461c-8c0f-a5dc91a43a43",
   "metadata": {},
   "outputs": [],
   "source": []
  }
 ],
 "metadata": {
  "kernelspec": {
   "display_name": "Python 3 (ipykernel)",
   "language": "python",
   "name": "python3"
  },
  "language_info": {
   "codemirror_mode": {
    "name": "ipython",
    "version": 3
   },
   "file_extension": ".py",
   "mimetype": "text/x-python",
   "name": "python",
   "nbconvert_exporter": "python",
   "pygments_lexer": "ipython3",
   "version": "3.11.4"
  }
 },
 "nbformat": 4,
 "nbformat_minor": 5
}
